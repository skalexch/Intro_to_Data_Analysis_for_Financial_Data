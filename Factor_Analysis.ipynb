{
 "cells": [
  {
   "cell_type": "markdown",
   "metadata": {},
   "source": [
    "# Data Analysis homework 3: Factor Analysis\n",
    "\n",
    "by Skander Chouchene"
   ]
  },
  {
   "cell_type": "code",
   "execution_count": 1,
   "metadata": {},
   "outputs": [],
   "source": [
    "# import necessary libraries\n",
    "import pandas as pd # pandas\n",
    "import seaborn as sns # seaborn package to generate nice plots\n",
    "import matplotlib.pyplot as plt # matplotlib\n",
    "import numpy as np # numpy\n",
    "import factor_analyzer as fa # factor analyzer package"
   ]
  },
  {
   "cell_type": "code",
   "execution_count": 2,
   "metadata": {},
   "outputs": [],
   "source": [
    "# read data\n",
    "data=pd.read_csv('tn_stock_data_2018.csv')\n",
    "# convert date from string to datetime type\n",
    "data.date=pd.to_datetime(data.date,format='%d/%m/%y')"
   ]
  },
  {
   "cell_type": "code",
   "execution_count": 3,
   "metadata": {},
   "outputs": [
    {
     "data": {
      "text/html": [
       "<div>\n",
       "<style scoped>\n",
       "    .dataframe tbody tr th:only-of-type {\n",
       "        vertical-align: middle;\n",
       "    }\n",
       "\n",
       "    .dataframe tbody tr th {\n",
       "        vertical-align: top;\n",
       "    }\n",
       "\n",
       "    .dataframe thead th {\n",
       "        text-align: right;\n",
       "    }\n",
       "</style>\n",
       "<table border=\"1\" class=\"dataframe\">\n",
       "  <thead>\n",
       "    <tr style=\"text-align: right;\">\n",
       "      <th></th>\n",
       "      <th>date</th>\n",
       "      <th>C_GR_RLC</th>\n",
       "      <th>company_code</th>\n",
       "      <th>company</th>\n",
       "      <th>ref_price</th>\n",
       "      <th>yesterday_price</th>\n",
       "      <th>open</th>\n",
       "      <th>last</th>\n",
       "      <th>close</th>\n",
       "      <th>low</th>\n",
       "      <th>high</th>\n",
       "      <th>qty_traded</th>\n",
       "      <th>num_trades</th>\n",
       "      <th>value</th>\n",
       "      <th>I</th>\n",
       "    </tr>\n",
       "  </thead>\n",
       "  <tbody>\n",
       "    <tr>\n",
       "      <th>0</th>\n",
       "      <td>2018-01-02</td>\n",
       "      <td>11</td>\n",
       "      <td>725001</td>\n",
       "      <td>ADWYA</td>\n",
       "      <td>5.35</td>\n",
       "      <td>5.35</td>\n",
       "      <td>5.25</td>\n",
       "      <td>5.39</td>\n",
       "      <td>5.39</td>\n",
       "      <td>5.25</td>\n",
       "      <td>5.39</td>\n",
       "      <td>2926</td>\n",
       "      <td>7</td>\n",
       "      <td>15635.50</td>\n",
       "      <td>NaN</td>\n",
       "    </tr>\n",
       "    <tr>\n",
       "      <th>1</th>\n",
       "      <td>2018-01-02</td>\n",
       "      <td>11</td>\n",
       "      <td>340005</td>\n",
       "      <td>AMEN BANK</td>\n",
       "      <td>24.35</td>\n",
       "      <td>24.35</td>\n",
       "      <td>24.38</td>\n",
       "      <td>24.00</td>\n",
       "      <td>24.00</td>\n",
       "      <td>24.00</td>\n",
       "      <td>24.38</td>\n",
       "      <td>1519</td>\n",
       "      <td>12</td>\n",
       "      <td>36918.00</td>\n",
       "      <td>NaN</td>\n",
       "    </tr>\n",
       "    <tr>\n",
       "      <th>2</th>\n",
       "      <td>2018-01-02</td>\n",
       "      <td>11</td>\n",
       "      <td>730001</td>\n",
       "      <td>ARTES</td>\n",
       "      <td>6.27</td>\n",
       "      <td>6.20</td>\n",
       "      <td>6.27</td>\n",
       "      <td>6.10</td>\n",
       "      <td>6.10</td>\n",
       "      <td>6.09</td>\n",
       "      <td>6.27</td>\n",
       "      <td>35875</td>\n",
       "      <td>67</td>\n",
       "      <td>219020.05</td>\n",
       "      <td>NaN</td>\n",
       "    </tr>\n",
       "    <tr>\n",
       "      <th>3</th>\n",
       "      <td>2018-01-02</td>\n",
       "      <td>11</td>\n",
       "      <td>714001</td>\n",
       "      <td>ASSAD</td>\n",
       "      <td>9.00</td>\n",
       "      <td>9.00</td>\n",
       "      <td>0.00</td>\n",
       "      <td>0.00</td>\n",
       "      <td>9.00</td>\n",
       "      <td>0.00</td>\n",
       "      <td>0.00</td>\n",
       "      <td>0</td>\n",
       "      <td>0</td>\n",
       "      <td>NaN</td>\n",
       "      <td>NaN</td>\n",
       "    </tr>\n",
       "    <tr>\n",
       "      <th>4</th>\n",
       "      <td>2018-01-02</td>\n",
       "      <td>11</td>\n",
       "      <td>360035</td>\n",
       "      <td>ATB</td>\n",
       "      <td>4.22</td>\n",
       "      <td>4.22</td>\n",
       "      <td>4.15</td>\n",
       "      <td>4.18</td>\n",
       "      <td>4.18</td>\n",
       "      <td>4.15</td>\n",
       "      <td>4.18</td>\n",
       "      <td>3705</td>\n",
       "      <td>7</td>\n",
       "      <td>15465.90</td>\n",
       "      <td>NaN</td>\n",
       "    </tr>\n",
       "  </tbody>\n",
       "</table>\n",
       "</div>"
      ],
      "text/plain": [
       "        date  C_GR_RLC  company_code    company  ref_price  yesterday_price  \\\n",
       "0 2018-01-02        11        725001      ADWYA       5.35             5.35   \n",
       "1 2018-01-02        11        340005  AMEN BANK      24.35            24.35   \n",
       "2 2018-01-02        11        730001      ARTES       6.27             6.20   \n",
       "3 2018-01-02        11        714001      ASSAD       9.00             9.00   \n",
       "4 2018-01-02        11        360035        ATB       4.22             4.22   \n",
       "\n",
       "    open   last  close    low   high  qty_traded  num_trades      value    I  \n",
       "0   5.25   5.39   5.39   5.25   5.39        2926           7   15635.50  NaN  \n",
       "1  24.38  24.00  24.00  24.00  24.38        1519          12   36918.00  NaN  \n",
       "2   6.27   6.10   6.10   6.09   6.27       35875          67  219020.05  NaN  \n",
       "3   0.00   0.00   9.00   0.00   0.00           0           0        NaN  NaN  \n",
       "4   4.15   4.18   4.18   4.15   4.18        3705           7   15465.90  NaN  "
      ]
     },
     "execution_count": 3,
     "metadata": {},
     "output_type": "execute_result"
    }
   ],
   "source": [
    "# show top observations from the data\n",
    "data.head()"
   ]
  },
  {
   "cell_type": "code",
   "execution_count": 4,
   "metadata": {},
   "outputs": [],
   "source": [
    "# calculate daily return for every company\n",
    "data['currReturn']=data.groupby(['company'])['close'].pct_change()"
   ]
  },
  {
   "cell_type": "code",
   "execution_count": 5,
   "metadata": {},
   "outputs": [],
   "source": [
    "data=data.drop(\"I\",axis=1)\n",
    "data=data.replace([np.inf, -np.inf], np.nan)"
   ]
  },
  {
   "cell_type": "code",
   "execution_count": 6,
   "metadata": {},
   "outputs": [],
   "source": [
    "ret_data=data.pivot(index='date',columns='company',values='currReturn').dropna()"
   ]
  },
  {
   "cell_type": "code",
   "execution_count": 7,
   "metadata": {},
   "outputs": [
    {
     "data": {
      "text/html": [
       "<div>\n",
       "<style scoped>\n",
       "    .dataframe tbody tr th:only-of-type {\n",
       "        vertical-align: middle;\n",
       "    }\n",
       "\n",
       "    .dataframe tbody tr th {\n",
       "        vertical-align: top;\n",
       "    }\n",
       "\n",
       "    .dataframe thead th {\n",
       "        text-align: right;\n",
       "    }\n",
       "</style>\n",
       "<table border=\"1\" class=\"dataframe\">\n",
       "  <thead>\n",
       "    <tr style=\"text-align: right;\">\n",
       "      <th>company</th>\n",
       "      <th>ADWYA</th>\n",
       "      <th>AETECH</th>\n",
       "      <th>AIR LIQUDE TSIE</th>\n",
       "      <th>ALKIMIA</th>\n",
       "      <th>AMEN BANK</th>\n",
       "      <th>AMI DA 1/4 110817</th>\n",
       "      <th>AMS</th>\n",
       "      <th>ARTES</th>\n",
       "      <th>ASS MULTI ITTIHAD</th>\n",
       "      <th>ASSAD</th>\n",
       "      <th>...</th>\n",
       "      <th>TELNET HOLDING</th>\n",
       "      <th>TPR</th>\n",
       "      <th>TUNINVEST-SICAR</th>\n",
       "      <th>TUNIS RE</th>\n",
       "      <th>TUNISAIR</th>\n",
       "      <th>UADH</th>\n",
       "      <th>UBCI</th>\n",
       "      <th>UIB</th>\n",
       "      <th>UNIMED</th>\n",
       "      <th>WIFACK INT BANK</th>\n",
       "    </tr>\n",
       "    <tr>\n",
       "      <th>date</th>\n",
       "      <th></th>\n",
       "      <th></th>\n",
       "      <th></th>\n",
       "      <th></th>\n",
       "      <th></th>\n",
       "      <th></th>\n",
       "      <th></th>\n",
       "      <th></th>\n",
       "      <th></th>\n",
       "      <th></th>\n",
       "      <th></th>\n",
       "      <th></th>\n",
       "      <th></th>\n",
       "      <th></th>\n",
       "      <th></th>\n",
       "      <th></th>\n",
       "      <th></th>\n",
       "      <th></th>\n",
       "      <th></th>\n",
       "      <th></th>\n",
       "      <th></th>\n",
       "    </tr>\n",
       "  </thead>\n",
       "  <tbody>\n",
       "    <tr>\n",
       "      <th>2018-01-03</th>\n",
       "      <td>-0.007421</td>\n",
       "      <td>0.039216</td>\n",
       "      <td>0.000000</td>\n",
       "      <td>0.000000</td>\n",
       "      <td>-0.000417</td>\n",
       "      <td>-0.138249</td>\n",
       "      <td>-0.025424</td>\n",
       "      <td>0.024590</td>\n",
       "      <td>-0.030303</td>\n",
       "      <td>-0.001111</td>\n",
       "      <td>...</td>\n",
       "      <td>0.013652</td>\n",
       "      <td>-0.022989</td>\n",
       "      <td>0.000000</td>\n",
       "      <td>-0.017857</td>\n",
       "      <td>-0.023256</td>\n",
       "      <td>0.004082</td>\n",
       "      <td>0.0</td>\n",
       "      <td>0.004089</td>\n",
       "      <td>0.019108</td>\n",
       "      <td>-0.002692</td>\n",
       "    </tr>\n",
       "    <tr>\n",
       "      <th>2018-01-04</th>\n",
       "      <td>0.037383</td>\n",
       "      <td>0.037736</td>\n",
       "      <td>-0.011236</td>\n",
       "      <td>-0.029989</td>\n",
       "      <td>-0.003752</td>\n",
       "      <td>0.000000</td>\n",
       "      <td>0.000000</td>\n",
       "      <td>0.001600</td>\n",
       "      <td>-0.045000</td>\n",
       "      <td>0.011123</td>\n",
       "      <td>...</td>\n",
       "      <td>0.026936</td>\n",
       "      <td>-0.032353</td>\n",
       "      <td>0.000000</td>\n",
       "      <td>0.030303</td>\n",
       "      <td>0.023810</td>\n",
       "      <td>0.056911</td>\n",
       "      <td>0.0</td>\n",
       "      <td>-0.004525</td>\n",
       "      <td>-0.002500</td>\n",
       "      <td>-0.029690</td>\n",
       "    </tr>\n",
       "    <tr>\n",
       "      <th>2018-01-05</th>\n",
       "      <td>0.005405</td>\n",
       "      <td>0.018182</td>\n",
       "      <td>0.002273</td>\n",
       "      <td>-0.044929</td>\n",
       "      <td>0.003347</td>\n",
       "      <td>0.000000</td>\n",
       "      <td>0.000000</td>\n",
       "      <td>0.000000</td>\n",
       "      <td>-0.018325</td>\n",
       "      <td>0.012101</td>\n",
       "      <td>...</td>\n",
       "      <td>0.013115</td>\n",
       "      <td>0.000000</td>\n",
       "      <td>0.029231</td>\n",
       "      <td>-0.012941</td>\n",
       "      <td>-0.023256</td>\n",
       "      <td>0.034615</td>\n",
       "      <td>0.0</td>\n",
       "      <td>0.000000</td>\n",
       "      <td>0.002506</td>\n",
       "      <td>-0.001391</td>\n",
       "    </tr>\n",
       "    <tr>\n",
       "      <th>2018-01-08</th>\n",
       "      <td>-0.014337</td>\n",
       "      <td>0.035714</td>\n",
       "      <td>0.000000</td>\n",
       "      <td>-0.023288</td>\n",
       "      <td>0.000000</td>\n",
       "      <td>0.005348</td>\n",
       "      <td>0.000000</td>\n",
       "      <td>-0.025559</td>\n",
       "      <td>0.058667</td>\n",
       "      <td>0.016304</td>\n",
       "      <td>...</td>\n",
       "      <td>0.009709</td>\n",
       "      <td>0.024316</td>\n",
       "      <td>0.000000</td>\n",
       "      <td>-0.021454</td>\n",
       "      <td>-0.023810</td>\n",
       "      <td>-0.014870</td>\n",
       "      <td>0.0</td>\n",
       "      <td>0.020000</td>\n",
       "      <td>0.025000</td>\n",
       "      <td>0.029248</td>\n",
       "    </tr>\n",
       "    <tr>\n",
       "      <th>2018-01-09</th>\n",
       "      <td>0.000000</td>\n",
       "      <td>0.000000</td>\n",
       "      <td>0.000000</td>\n",
       "      <td>0.000000</td>\n",
       "      <td>-0.000417</td>\n",
       "      <td>0.058511</td>\n",
       "      <td>0.000000</td>\n",
       "      <td>0.008197</td>\n",
       "      <td>-0.023929</td>\n",
       "      <td>0.014973</td>\n",
       "      <td>...</td>\n",
       "      <td>-0.012821</td>\n",
       "      <td>0.008902</td>\n",
       "      <td>-0.044843</td>\n",
       "      <td>-0.023143</td>\n",
       "      <td>0.000000</td>\n",
       "      <td>-0.026415</td>\n",
       "      <td>0.0</td>\n",
       "      <td>-0.001783</td>\n",
       "      <td>0.000000</td>\n",
       "      <td>-0.009472</td>\n",
       "    </tr>\n",
       "  </tbody>\n",
       "</table>\n",
       "<p>5 rows × 84 columns</p>\n",
       "</div>"
      ],
      "text/plain": [
       "company        ADWYA    AETECH  AIR LIQUDE TSIE   ALKIMIA  AMEN BANK  \\\n",
       "date                                                                   \n",
       "2018-01-03 -0.007421  0.039216         0.000000  0.000000  -0.000417   \n",
       "2018-01-04  0.037383  0.037736        -0.011236 -0.029989  -0.003752   \n",
       "2018-01-05  0.005405  0.018182         0.002273 -0.044929   0.003347   \n",
       "2018-01-08 -0.014337  0.035714         0.000000 -0.023288   0.000000   \n",
       "2018-01-09  0.000000  0.000000         0.000000  0.000000  -0.000417   \n",
       "\n",
       "company     AMI DA 1/4 110817       AMS     ARTES  ASS MULTI ITTIHAD  \\\n",
       "date                                                                   \n",
       "2018-01-03          -0.138249 -0.025424  0.024590          -0.030303   \n",
       "2018-01-04           0.000000  0.000000  0.001600          -0.045000   \n",
       "2018-01-05           0.000000  0.000000  0.000000          -0.018325   \n",
       "2018-01-08           0.005348  0.000000 -0.025559           0.058667   \n",
       "2018-01-09           0.058511  0.000000  0.008197          -0.023929   \n",
       "\n",
       "company        ASSAD  ...  TELNET HOLDING       TPR  TUNINVEST-SICAR  \\\n",
       "date                  ...                                              \n",
       "2018-01-03 -0.001111  ...        0.013652 -0.022989         0.000000   \n",
       "2018-01-04  0.011123  ...        0.026936 -0.032353         0.000000   \n",
       "2018-01-05  0.012101  ...        0.013115  0.000000         0.029231   \n",
       "2018-01-08  0.016304  ...        0.009709  0.024316         0.000000   \n",
       "2018-01-09  0.014973  ...       -0.012821  0.008902        -0.044843   \n",
       "\n",
       "company     TUNIS RE  TUNISAIR      UADH  UBCI       UIB    UNIMED  \\\n",
       "date                                                                 \n",
       "2018-01-03 -0.017857 -0.023256  0.004082   0.0  0.004089  0.019108   \n",
       "2018-01-04  0.030303  0.023810  0.056911   0.0 -0.004525 -0.002500   \n",
       "2018-01-05 -0.012941 -0.023256  0.034615   0.0  0.000000  0.002506   \n",
       "2018-01-08 -0.021454 -0.023810 -0.014870   0.0  0.020000  0.025000   \n",
       "2018-01-09 -0.023143  0.000000 -0.026415   0.0 -0.001783  0.000000   \n",
       "\n",
       "company     WIFACK INT BANK  \n",
       "date                         \n",
       "2018-01-03        -0.002692  \n",
       "2018-01-04        -0.029690  \n",
       "2018-01-05        -0.001391  \n",
       "2018-01-08         0.029248  \n",
       "2018-01-09        -0.009472  \n",
       "\n",
       "[5 rows x 84 columns]"
      ]
     },
     "execution_count": 7,
     "metadata": {},
     "output_type": "execute_result"
    }
   ],
   "source": [
    "ret_data.head()"
   ]
  },
  {
   "cell_type": "markdown",
   "metadata": {},
   "source": [
    "\n",
    "### Factor Analysis\n",
    "\n",
    "#### Question: Perform the factor analysis on the returns for the 84 stocks in the provided dataset. It is important that you try to interpret the results of the FA. You may want to try running the analysis for various combinations of industries and analyze the results you get. You can find the industries for all the stocks in Tunisia Stock Exchange in https://www.ilboursa.com/marches/secteurs.aspx\n",
    "\n",
    "You will need to install factor-analyzer (https://pypi.org/project/factor-analyzer/) to perform the factor analysis exercise. You can find a variety of examples in the documentation of the package : https://factor-analyzer.readthedocs.io/en/latest/factor_analyzer.html\n",
    "\n",
    "You may want to take a look at the following link regarding how to choose the factor in the FA: https://www.theanalysisfactor.com/factor-analysis-how-many-factors/ </b>\n"
   ]
  },
  {
   "cell_type": "markdown",
   "metadata": {},
   "source": [
    "# I/ general Factor Analysis"
   ]
  },
  {
   "cell_type": "markdown",
   "metadata": {},
   "source": [
    "#### In this first section, we are going to perform a general Factor Analysis.\n"
   ]
  },
  {
   "cell_type": "code",
   "execution_count": 8,
   "metadata": {},
   "outputs": [],
   "source": [
    "fact=fa.FactorAnalyzer(n_factors=5, rotation=None)\n",
    "fact.fit(ret_data)\n",
    "ev,v=fact.get_eigenvalues()"
   ]
  },
  {
   "cell_type": "code",
   "execution_count": 9,
   "metadata": {},
   "outputs": [
    {
     "data": {
      "image/png": "[encoded data removed]",
      "text/plain": [
       "<Figure size 432x288 with 1 Axes>"
      ]
     },
     "metadata": {
      "needs_background": "light"
     },
     "output_type": "display_data"
    }
   ],
   "source": [
    "plt.scatter(range(1,ret_data.shape[1]+1),ev)\n",
    "plt.plot(range(1,ret_data.shape[1]+1),ev)\n",
    "plt.plot(range(1,ret_data.shape[1]+1),ev/ev) #the 1 eigenvalue line\n",
    "plt.title('Scree Plot')\n",
    "plt.xlabel('Factors')\n",
    "plt.ylabel('Eigenvalue')\n",
    "plt.grid()\n",
    "plt.show()"
   ]
  },
  {
   "cell_type": "code",
   "execution_count": 10,
   "metadata": {},
   "outputs": [
    {
     "data": {
      "text/plain": [
       "(array([3.7651882 , 1.75131075, 1.54264698, 1.42365058, 1.21628087]),\n",
       " array([0.04482367, 0.02084894, 0.01836484, 0.01694822, 0.01447953]),\n",
       " array([0.04482367, 0.06567261, 0.08403745, 0.10098567, 0.11546521]))"
      ]
     },
     "execution_count": 10,
     "metadata": {},
     "output_type": "execute_result"
    }
   ],
   "source": [
    "fact.get_factor_variance()"
   ]
  },
  {
   "cell_type": "markdown",
   "metadata": {},
   "source": [
    "### => Interpretation:\n",
    "#### The scree plot method draws a straight line for each factor and its eigenvalues. Number eigenvalues greater than one considered as the number of factors.\n",
    "#### As we can see, there is about 35 to 40 factors that determine the next returns, as they are greater than 1.  It means we need to choose only 35 factors (this isn't always a sufficien criterion). However, this factor analysis is not really helpful, as data differs throughout industries. And defining factors also differ."
   ]
  },
  {
   "cell_type": "markdown",
   "metadata": {},
   "source": [
    "# II/ Factor Analysis for banks"
   ]
  },
  {
   "cell_type": "markdown",
   "metadata": {},
   "source": [
    "#### In this part, we will isolate bank data and perform factor analysis on it."
   ]
  },
  {
   "cell_type": "code",
   "execution_count": 26,
   "metadata": {},
   "outputs": [],
   "source": [
    "bank=ret_data[[\"BIAT\",\"UIB\",\"BH\",\"BNA\",\"AMEN BANK\",\"UBCI\",\"ATB\"]]\n",
    "fact.fit(bank)\n",
    "ev,v= fact.get_eigenvalues()"
   ]
  },
  {
   "cell_type": "code",
   "execution_count": 27,
   "metadata": {},
   "outputs": [
    {
     "data": {
      "image/png": "[encoded data removed]",
      "text/plain": [
       "<Figure size 432x288 with 1 Axes>"
      ]
     },
     "metadata": {
      "needs_background": "light"
     },
     "output_type": "display_data"
    }
   ],
   "source": [
    "plt.scatter(range(1,bank.shape[1]+1),ev)\n",
    "plt.plot(range(1,bank.shape[1]+1),ev)\n",
    "plt.plot(range(1,bank.shape[1]+1),ev/ev) #the 1 eigenvalue line\n",
    "plt.title('Scree Plot')\n",
    "plt.xlabel('Factors')\n",
    "plt.ylabel('Eigenvalue')\n",
    "plt.grid()\n",
    "plt.show()"
   ]
  },
  {
   "cell_type": "code",
   "execution_count": 28,
   "metadata": {},
   "outputs": [
    {
     "data": {
      "text/plain": [
       "(array([1.80363433, 0.43938423, 0.20239898, 0.1052444 , 0.08761974]),\n",
       " array([0.25766205, 0.06276918, 0.02891414, 0.01503491, 0.01251711]),\n",
       " array([0.25766205, 0.32043122, 0.34934536, 0.36438028, 0.37689738]))"
      ]
     },
     "execution_count": 28,
     "metadata": {},
     "output_type": "execute_result"
    }
   ],
   "source": [
    "fact.get_factor_variance()"
   ]
  },
  {
   "cell_type": "markdown",
   "metadata": {},
   "source": [
    "### => Observation:\n",
    "#### There are only two factors whose eigenvalues are over 1, which means that the next returns for banks can be explained with only 2 underlying factors. However, two factors alone can't explain all the cumulative variance in the data. One of these factors has a higher eigenvalue than all of the others."
   ]
  },
  {
   "cell_type": "code",
   "execution_count": 30,
   "metadata": {},
   "outputs": [
    {
     "data": {
      "text/plain": [
       "array([[ 0.67767779, -0.10064299,  0.05564156,  0.08555678, -0.15658348],\n",
       "       [ 0.79689058, -0.01330124, -0.29704451, -0.05927194, -0.03060784],\n",
       "       [ 0.66444112, -0.16535997,  0.25405563,  0.08555825,  0.11359127],\n",
       "       [ 0.36294821,  0.1721605 ,  0.17034961, -0.26949554, -0.00597538],\n",
       "       [ 0.3203393 ,  0.26987037, -0.10463099,  0.04854993,  0.20151932],\n",
       "       [ 0.06164257,  0.5459102 ,  0.07909839,  0.09799748, -0.09231716],\n",
       "       [ 0.1724009 ,  0.03531527, -0.01732346,  0.05002615, -0.00966125]])"
      ]
     },
     "execution_count": 30,
     "metadata": {},
     "output_type": "execute_result"
    }
   ],
   "source": [
    "fact.loadings_"
   ]
  },
  {
   "cell_type": "markdown",
   "metadata": {},
   "source": [
    "### => Loadings explanation:\n",
    "#### - The loadings matrix has the variables for rows (in our case the variables are companies), and the factors for columns. It shows the coefficient (or loading) for each factor in each variable, thus giving us the significance of the factor for that variable.\n",
    "#### - Factor 1 has a high loading for most of the banks (except for UBCI). This is a very defining factor for banks. The 2nd factor is of a non-negligeable importance, yet it doesn't match the 1st one.\n",
    "#### - We can conclude that one factor has most of the defining power for banks' next returns. This is also mirrored by its higher eigenvalue."
   ]
  },
  {
   "cell_type": "markdown",
   "metadata": {},
   "source": [
    "# III/ Factor Analysis between industries"
   ]
  },
  {
   "cell_type": "markdown",
   "metadata": {},
   "source": [
    "#### In this final section, we are going to compare between several industries to understand the difference between them in terms of effecting factors.\n",
    "#### We are going to perform factor analysis on 3 combinations of industries.: Banks vs pharmaceutical companies,  banks vs large food industrials, and pharmaceuticals vs large food industrials."
   ]
  },
  {
   "cell_type": "markdown",
   "metadata": {},
   "source": [
    "## 1) Pharmaceuticals vs Banks"
   ]
  },
  {
   "cell_type": "code",
   "execution_count": 34,
   "metadata": {},
   "outputs": [],
   "source": [
    "bank_vs_pharma=ret_data[[\"BIAT\",\"UIB\",\"BH\",\"ADWYA\",\"SIPHAT\",\"UNIMED\"]]"
   ]
  },
  {
   "cell_type": "code",
   "execution_count": 35,
   "metadata": {},
   "outputs": [],
   "source": [
    "fact.fit(bank_vs_pharma)\n",
    "ev,v= fact.get_eigenvalues()"
   ]
  },
  {
   "cell_type": "code",
   "execution_count": 36,
   "metadata": {},
   "outputs": [
    {
     "data": {
      "image/png": "[encoded data removed]",
      "text/plain": [
       "<Figure size 432x288 with 1 Axes>"
      ]
     },
     "metadata": {
      "needs_background": "light"
     },
     "output_type": "display_data"
    }
   ],
   "source": [
    "plt.scatter(range(1,bank_vs_pharma.shape[1]+1),ev)\n",
    "plt.plot(range(1,bank_vs_pharma.shape[1]+1),ev)\n",
    "plt.plot(range(1,bank_vs_pharma.shape[1]+1),ev/ev) #the 1 eigenvalue line\n",
    "plt.title('Scree Plot')\n",
    "plt.xlabel('Factors')\n",
    "plt.ylabel('Eigenvalue')\n",
    "plt.grid()\n",
    "plt.show()"
   ]
  },
  {
   "cell_type": "code",
   "execution_count": 37,
   "metadata": {},
   "outputs": [
    {
     "data": {
      "text/plain": [
       "array([[ 0.76486335, -0.09317467, -0.06598007, -0.14765414,  0.05750285],\n",
       "       [ 0.72652911,  0.1119345 ,  0.16169071,  0.03056581, -0.09594729],\n",
       "       [ 0.63984021,  0.09603618, -0.18021734,  0.162562  ,  0.03928331],\n",
       "       [ 0.24988274, -0.39669887,  0.17051726, -0.01299642, -0.00083399],\n",
       "       [-0.02198937, -0.00092974,  0.29226888,  0.11442997,  0.07264919],\n",
       "       [ 0.07407134,  0.37264288,  0.16363303, -0.10154523,  0.032368  ]])"
      ]
     },
     "execution_count": 37,
     "metadata": {},
     "output_type": "execute_result"
    }
   ],
   "source": [
    "fact.loadings_"
   ]
  },
  {
   "cell_type": "markdown",
   "metadata": {},
   "source": [
    "### => Interpretation:\n",
    "#### 3 variables have eigenvalues over 1. Which means that we can choose just 3 factors to explain nextReturn for banks vs pharmaceutical companies.\n",
    "#### Note that the 1ast factor has an eigenvalue of just over 2. By viewing the loading matrix we find that this factor is higher for banks and lower for pharmaceuticals. This is the same defining factor that we found when we did factor analysis on banks."
   ]
  },
  {
   "cell_type": "markdown",
   "metadata": {},
   "source": [
    "## 2) Banks vs Food industrials"
   ]
  },
  {
   "cell_type": "code",
   "execution_count": null,
   "metadata": {},
   "outputs": [],
   "source": [
    "bank_vs_agrobig=ret_data[[\"BIAT\",\"UIB\",\"BH\",\"BNA\",\"SFBT\",\"DELICE HOLDING\",\"POULINA GP HOLDING\"]]"
   ]
  },
  {
   "cell_type": "code",
   "execution_count": 38,
   "metadata": {},
   "outputs": [],
   "source": [
    "fact.fit(bank_vs_agrobig)\n",
    "fact.get_eigenvalues()\n",
    "ev,v= fact.get_eigenvalues()"
   ]
  },
  {
   "cell_type": "code",
   "execution_count": 39,
   "metadata": {},
   "outputs": [
    {
     "data": {
      "image/png": "[encoded data removed]",
      "text/plain": [
       "<Figure size 432x288 with 1 Axes>"
      ]
     },
     "metadata": {
      "needs_background": "light"
     },
     "output_type": "display_data"
    }
   ],
   "source": [
    "plt.scatter(range(1,bank_vs_agrobig.shape[1]+1),ev)\n",
    "plt.plot(range(1,bank_vs_agrobig.shape[1]+1),ev)\n",
    "plt.plot(range(1,bank_vs_agrobig.shape[1]+1),ev/ev) #the 1 eigenvalue line\n",
    "plt.title('Scree Plot')\n",
    "plt.xlabel('Factors')\n",
    "plt.ylabel('Eigenvalue')\n",
    "plt.grid()\n",
    "plt.show()"
   ]
  },
  {
   "cell_type": "code",
   "execution_count": 40,
   "metadata": {},
   "outputs": [
    {
     "data": {
      "text/plain": [
       "array([[ 0.73094058, -0.26130882, -0.12646241,  0.0189632 ,  0.03789715],\n",
       "       [ 0.75524746,  0.12232537, -0.04893193,  0.15191704, -0.1208413 ],\n",
       "       [ 0.6475832 , -0.10626866,  0.22832216, -0.10597887,  0.00943834],\n",
       "       [ 0.35717725,  0.1733672 , -0.01612051, -0.21215722,  0.05815904],\n",
       "       [ 0.28880473,  0.29645551, -0.13433172, -0.02770125,  0.04978555],\n",
       "       [ 0.13211974,  0.17069622,  0.21771742,  0.14491532,  0.07615669],\n",
       "       [ 0.05175402, -0.05139333, -0.05171812,  0.09015748,  0.23648816]])"
      ]
     },
     "execution_count": 40,
     "metadata": {},
     "output_type": "execute_result"
    }
   ],
   "source": [
    "fact.loadings_"
   ]
  },
  {
   "cell_type": "markdown",
   "metadata": {},
   "source": [
    "### => Observation\n",
    "#### In this example, two factors have eigenvalues over 1. We still see the 1st defining factor for banks. However, this time it's not really low for food industrials.\n",
    "#### The 2nd factor is very similar between banks and food industrials, and it's somewhat significant."
   ]
  },
  {
   "cell_type": "markdown",
   "metadata": {},
   "source": [
    "## 3) Pharmaceuticals vs Food industrials"
   ]
  },
  {
   "cell_type": "code",
   "execution_count": 41,
   "metadata": {},
   "outputs": [],
   "source": [
    "pharma_vs_agrobig=ret_data[[\"ADWYA\",\"SIPHAT\",\"UNIMED\",\"SFBT\",\"DELICE HOLDING\",\"POULINA GP HOLDING\"]]"
   ]
  },
  {
   "cell_type": "code",
   "execution_count": 42,
   "metadata": {},
   "outputs": [],
   "source": [
    "fact.fit(pharma_vs_agrobig)\n",
    "fact.get_eigenvalues()\n",
    "ev,v= fact.get_eigenvalues()"
   ]
  },
  {
   "cell_type": "code",
   "execution_count": 43,
   "metadata": {},
   "outputs": [
    {
     "data": {
      "image/png": "[encoded data removed]",
      "text/plain": [
       "<Figure size 432x288 with 1 Axes>"
      ]
     },
     "metadata": {
      "needs_background": "light"
     },
     "output_type": "display_data"
    }
   ],
   "source": [
    "plt.scatter(range(1,pharma_vs_agrobig.shape[1]+1),ev)\n",
    "plt.plot(range(1,pharma_vs_agrobig.shape[1]+1),ev)\n",
    "plt.plot(range(1,pharma_vs_agrobig.shape[1]+1),ev/ev) #the 1 eigenvalue line\n",
    "plt.title('Scree Plot')\n",
    "plt.xlabel('Factors')\n",
    "plt.ylabel('Eigenvalue')\n",
    "plt.grid()\n",
    "plt.show()"
   ]
  },
  {
   "cell_type": "code",
   "execution_count": 47,
   "metadata": {},
   "outputs": [
    {
     "data": {
      "text/plain": [
       "array([[-0.07295267,  0.31721805,  0.24687233,  0.09935027, -0.03426447],\n",
       "       [ 0.1194163 , -0.12517288,  0.36395068,  0.02958578,  0.03521231],\n",
       "       [ 0.48848756, -0.12649768, -0.10034283, -0.00487322, -0.0261804 ],\n",
       "       [ 0.40177856,  0.29537435,  0.01513738,  0.01705759,  0.01966897],\n",
       "       [-0.0418473 ,  0.27129263, -0.04882443, -0.20517528,  0.01068226],\n",
       "       [-0.0559662 ,  0.13293905, -0.27587246,  0.16695889,  0.02450332]])"
      ]
     },
     "execution_count": 47,
     "metadata": {},
     "output_type": "execute_result"
    }
   ],
   "source": [
    "fact.loadings_"
   ]
  },
  {
   "cell_type": "markdown",
   "metadata": {},
   "source": [
    "### => Observation and interpretation:\n",
    "#### This time Factor 1 doesn't seem to have as much significance as we found in cases with banks. With means this \n",
    "#### There are 3 main underlying factors that we can use. The 1st one seems to has a smaller significance for bigger companies (Adwya, Poulina and Delice). "
   ]
  }
 ],
 "metadata": {
  "kernelspec": {
   "display_name": "Python 3",
   "language": "python",
   "name": "python3"
  },
  "language_info": {
   "codemirror_mode": {
    "name": "ipython",
    "version": 3
   },
   "file_extension": ".py",
   "mimetype": "text/x-python",
   "name": "python",
   "nbconvert_exporter": "python",
   "pygments_lexer": "ipython3",
   "version": "3.7.3"
  }
 },
 "nbformat": 4,
 "nbformat_minor": 2
}
